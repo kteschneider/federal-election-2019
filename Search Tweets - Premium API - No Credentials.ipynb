{
 "cells": [
  {
   "cell_type": "markdown",
   "metadata": {},
   "source": [
    "# Search Tweets using Twitter's Premium API - Full Archive"
   ]
  },
  {
   "cell_type": "markdown",
   "metadata": {},
   "source": [
    "<b>Created by [Kate Schneider](https://github.com/kteschneider) <br> Last modified April 16, 2020</b>"
   ]
  },
  {
   "cell_type": "markdown",
   "metadata": {},
   "source": [
    "This code uses TwitterAPI, a 3rd party library approved by the Twitter Developer team, with Twitter's Premium Search Tweets (Full Archive) API.\n",
    "\n",
    "For TwitterAPI's documentation, see https://readthedocs.org/projects/twitterapi/downloads/pdf/latest/. There are many libraries that are compatible with the Standard APIs but TwitterAPI is one of the very few compatible with Premium APIs.\n",
    "\n",
    "### About the Premium Search Tweets API endpoints\n",
    "\n",
    "There are two premium search API endpoints: \n",
    "\n",
    "1. Search Tweets: 30-day endpoint → provides Tweets posted within the last 30 days.\n",
    "2. Search Tweets: Full-archive endpoint → provides Tweets from as early as 2006, starting with the first Tweet posted in March 2006.\n",
    "\n",
    "Premium search provides data and counts endpoints. Data endpoints retrieve Tweets matching the specified query. Count endpoints retrieve the number of Tweets matching the specified query. For this project, I will be using the data endpoints. \n",
    "\n",
    "The search URL for the data endpoint is:\n",
    "https://api.twitter.com/1.1/tweets/search/fullarchive/dev.json\n",
    "\n",
    "### Rate limits\n",
    "Request rate limits at both minute and second granularity. The per minute rate limit is 60 requests per minute (30 with Sandbox environment). Requests are also limited to 10 per second. Requests are aggregated across both the data and counts endpoints. Monthly request limits are also applied. Sandbox environments are limited to 250 requests per month, and paid access can range between 500 and 10,000 requests.\n",
    "(from https://developer.twitter.com/en/docs/tweets/search/api-reference/premium-search#SearchRequests)\n",
    "\n",
    "### Differences with the Standard Search API\n",
    "For information on how the Search Tweets API (Premium) and the Twitter Search API (Standard), see https://developer.twitter.com/en/docs/tweets/search/guides/integrating-premium (\"Migrating from standard search\").\n",
    "\n",
    "### Extracting the JSON-encoded tweet objects\n",
    "For information on the Tweet JSON returned by the Search Tweets API, see https://developer.twitter.com/en/docs/tweets/data-dictionary/overview/intro-to-tweet-json."
   ]
  },
  {
   "cell_type": "markdown",
   "metadata": {},
   "source": [
    "## A. Setting up 'TwitterAPI' for Search Tweets"
   ]
  },
  {
   "cell_type": "markdown",
   "metadata": {},
   "source": [
    "### 1. Setting counter to 0\n",
    "\n",
    "This helps keep track of how many requests you've submitted overall."
   ]
  },
  {
   "cell_type": "code",
   "execution_count": null,
   "metadata": {},
   "outputs": [],
   "source": [
    "global_counter = 0"
   ]
  },
  {
   "cell_type": "markdown",
   "metadata": {},
   "source": [
    "### 2. Importing libraries"
   ]
  },
  {
   "cell_type": "code",
   "execution_count": null,
   "metadata": {},
   "outputs": [],
   "source": [
    "from TwitterAPI import TwitterAPI\n",
    "import json\n",
    "import time"
   ]
  },
  {
   "cell_type": "markdown",
   "metadata": {},
   "source": [
    "### 3. Running on the free Sandbox testing version or the paid Premium version? - *requires input*\n",
    "\n",
    "There are two versions of the Premium Search Tweets API: Sandbox and Premium (paid). The Sandbox version is free and is already set up when you create your dev environment. This allows for testing and permits 50 requests a month of 100 tweets each (5k tweets overall). The Premium version must be paid for each month and varies by price depending on how many requests you purchase. With the Premium version, each request gives you 500 tweets. Therefore, at the lowest purchase level of 100 requests, you would get 50k tweets overall.\n",
    "\n",
    "See here for the pricing levels for Premium Search Tweets (Full Archive): https://developer.twitter.com/en/pricing/search-fullarchive "
   ]
  },
  {
   "cell_type": "code",
   "execution_count": null,
   "metadata": {},
   "outputs": [],
   "source": [
    "SANDBOX = True\n",
    "# set equal to True if running the Sandbox version of the Search Tweets API\n",
    "# set equal to False if running the Premium (paid) version of the Search Tweets API"
   ]
  },
  {
   "cell_type": "markdown",
   "metadata": {},
   "source": [
    "### 4. Gaining access and creating the interface - *requires input*\n",
    "\n",
    "Below you would enter your access tokens and consumer keys found on your Twitter Developer 'Apps' > 'Keys and tokens' page.\n",
    "\n",
    "The order they must be listed in is TwitterAPI('CONSUMER KEY', 'SECRET CONSUMER KEY', 'ACCESS TOKEN', 'SECRET ACCESS TOKEN')"
   ]
  },
  {
   "cell_type": "code",
   "execution_count": null,
   "metadata": {},
   "outputs": [],
   "source": [
    "api = TwitterAPI('CONSUMER KEY', \n",
    "                 'SECRET CONSUMER KEY', \n",
    "                 'ACCESS TOKEN', \n",
    "                 'SECRET ACCESS TOKEN')"
   ]
  },
  {
   "cell_type": "markdown",
   "metadata": {},
   "source": [
    "## B. Creating and Completing New Requests\n",
    "⬇︎ FOR NEW REQUESTS RUN FROM HERE AND BELOW ⬇︎"
   ]
  },
  {
   "cell_type": "markdown",
   "metadata": {},
   "source": [
    "### 1. Setting search parameters - *requires input*\n",
    "\n",
    "Below, you set your search parameters.\n",
    "\n",
    "FROM_DATE & TO_DATE \n",
    "* take the format YYYYMMDDhhmm and are in UTC.\n",
    "\n",
    "filename\n",
    "* must have the extension '.json'\n",
    "\n",
    "SEARCH_TERM\n",
    "* determines which tweets you will collect (e.g. can set as a hashtag).\n",
    "\n",
    "sandbox_requests\n",
    "* the maximum number of requests that will be collected running through this program once in Sandbox mode. The monthly limit is 50 but you may wish to set it to a smaller number so you can run many requests with different search parameters.\n",
    "\n",
    "premium_requests\n",
    "* the maximum number of requests that will be collected running through this program once in Premium mode. The monthly limit is whatever you purchased (e.g. lowest purchase level gives you 100) but you may wish to set it to a smaller number so you can run many requests with different search parameters.\n",
    "\n",
    "LABEL\n",
    "* the name of your dev environment (e.g. my dev environment is called \"dev\")"
   ]
  },
  {
   "cell_type": "code",
   "execution_count": null,
   "metadata": {},
   "outputs": [],
   "source": [
    "# Can adjust the following parameters each time\n",
    "FROM_DATE = '201910181500'\n",
    "TO_DATE = '201910181600'\n",
    "filename = 'cdnpoli_tweets.json'\n",
    "SEARCH_TERM = '#cdnpoli'\n",
    "sandbox_requests = 1\n",
    "premium_requests = 2\n",
    "\n",
    "# Set this parameter the first time\n",
    "LABEL = 'dev'"
   ]
  },
  {
   "cell_type": "markdown",
   "metadata": {},
   "source": [
    "#### Do not adjust the parameters below.\n",
    "\n",
    "PRODUCT specifies that you are using the Full Archive version of the Premium Search Tweets API and not the 30-day window version."
   ]
  },
  {
   "cell_type": "code",
   "execution_count": null,
   "metadata": {},
   "outputs": [],
   "source": [
    "PRODUCT = 'fullarchive'"
   ]
  },
  {
   "cell_type": "markdown",
   "metadata": {},
   "source": [
    "Below I implemented the necessary limits for either the Sandbox or Premium version of the API to prevent you from reaching the rate limit. Will print out which version you are running with the number of requests and tweets per request."
   ]
  },
  {
   "cell_type": "code",
   "execution_count": null,
   "metadata": {},
   "outputs": [],
   "source": [
    "if SANDBOX == True:\n",
    "    SYSTEM_LIMIT = 100 \n",
    "    # Sets maximum number of search results to be returned by a request\n",
    "    # Accepts any number between 10 and the system limit\n",
    "    REQUEST_MAX = sandbox_requests\n",
    "    # Sets maximum number of requests to be made\n",
    "    # Monthly limit for Sandbox is 50\n",
    "    TIME_PAUSE = 2.1\n",
    "    # Sets length of time the program is paused after running\n",
    "    # Allows for 30 requests per minute (plus buffer millisecond)\n",
    "    print(\"Running Sandbox with\", SYSTEM_LIMIT, \"tweets per request and\", REQUEST_MAX, \"requests in total.\")\n",
    "else: # If running Premium\n",
    "    SYSTEM_LIMIT = 500\n",
    "    REQUEST_MAX = premium_requests\n",
    "    # Adjust based on how many requests were purchased\n",
    "    # Purchased amount is your maximum (e.g. at lowest purchase level, max. would be 100)\n",
    "    TIME_PAUSE = 1.1\n",
    "    # Allows for 60 requests per minute (plus buffer millisecond)\n",
    "    print(\"Running Premium with\", SYSTEM_LIMIT, \"tweets per request and\", REQUEST_MAX, \"requests in total.\")"
   ]
  },
  {
   "cell_type": "markdown",
   "metadata": {},
   "source": [
    "### 2. Initializing loop variables\n",
    "\n",
    "Do not adjust the variables below."
   ]
  },
  {
   "cell_type": "code",
   "execution_count": null,
   "metadata": {},
   "outputs": [],
   "source": [
    "NEXT_TERM = None # Ensure == None for first request\n",
    "web_request_count = 0\n",
    "finished = False\n",
    "nested_dict = {}\n",
    "num_dict = 1 # Ensure == '1' for first request"
   ]
  },
  {
   "cell_type": "markdown",
   "metadata": {},
   "source": [
    "### 3. Running loop to collect tweets\n",
    "\n",
    "Each pass through the loop is a request.\n",
    "\n",
    "1. Starts out by collecting the tweets using your specified search parameters. \n",
    "2. Then, it checks for error codes. The most serious error code (exceeding the rate limit) is built in. To check other error codes, see https://developer.twitter.com/en/docs/tweets/search/api-reference/premium-search#HTTPCodes. \n",
    "3. Next, adds 1 to both the global counter (total requests overall) and the web request counter (number of requests you're collecting passing through this program once). Prints out which web request number you've just completed.\n",
    "4. Checks to see whether there is a 'next' token in the json downloaded from Twitter. If there is no 'next' token, this indicates that you've reached the last page of the search results derived from your search parameters. It will set the finished variable to \"true\" to prevent you from running through the loop again if you have reached the end. If not, it will continue onto the next pass through the loop for another request.\n",
    "5. Adds the tweets you just collected to nested dictionary where each individual tweet is stored as a dictionary within a larger dictionary of all tweets.\n",
    "6. If running through the loop again, pauses the program temporarily to prevent you from exceeding the rate limits. Sets the 'next' token for the subsequent request to the 'next' token you were given in order to avoid pulling the same tweets in your next request."
   ]
  },
  {
   "cell_type": "code",
   "execution_count": null,
   "metadata": {},
   "outputs": [],
   "source": [
    "while finished == False:\n",
    "    r = api.request('tweets/search/%s/:%s' % (PRODUCT, LABEL), \n",
    "                    {'query':SEARCH_TERM,\n",
    "                     'fromDate':FROM_DATE,\n",
    "                     'toDate':TO_DATE,\n",
    "                     'maxResults':SYSTEM_LIMIT,\n",
    "                     'next':NEXT_TERM})\n",
    "    \n",
    "    # checking for error codes\n",
    "    if r.status_code != 200:\n",
    "        print('Error: r.status_code: ', r.status_code)\n",
    "        if r.status_code == 429:\n",
    "            print(\"Exceeded rate limit\")\n",
    "        break\n",
    "    \n",
    "    # counting the requests and exiting if reached the max.\n",
    "    web_request_count += 1\n",
    "    global_counter += 1\n",
    "    print('Completed web request: ', web_request_count)\n",
    "\n",
    "    if 'next' not in r.json():\n",
    "        finished = True\n",
    "        print(\"Reached end of results.\")\n",
    "        print(\"Program complete. Number of requests collected is\", web_request_count)\n",
    "        print(\"'next' token for subsequent requests is\", NEXT_TERM)\n",
    "        print(\"Total number of requests completed is\", global_counter)\n",
    "    elif (web_request_count == REQUEST_MAX):\n",
    "        finished = True\n",
    "        NEXT_TERM = r.json()['next']\n",
    "        print(\"Finished up to number of maximum requests.\")\n",
    "        print(\"Program complete. Number of requests collected is\", web_request_count)\n",
    "        print(\"'next' token for subsequent requests is\", NEXT_TERM)\n",
    "        print(\"Total number of requests completed is\", global_counter)\n",
    "    \n",
    "    # adding to the dictionary containing the results\n",
    "    results = r.json()['results']\n",
    "    for tweet in results:\n",
    "        nested_dict[num_dict] = tweet\n",
    "        num_dict += 1\n",
    "    \n",
    "    # Pausing program to prevent exceeding the rate limits.\n",
    "    # If this is the last loop (i.e. finished == True), this step is omitted.\n",
    "    if finished == False:\n",
    "        print(\"Pausing for\", TIME_PAUSE, \"seconds before next request.\")\n",
    "        time.sleep(TIME_PAUSE) # pauses program as only 30 requests\n",
    "        print(\"Finished pausing. Moving on to next request.\")\n",
    "        NEXT_TERM = r.json()['next']"
   ]
  },
  {
   "cell_type": "markdown",
   "metadata": {},
   "source": [
    "### 4. Storing dictionary of tweets"
   ]
  },
  {
   "cell_type": "code",
   "execution_count": null,
   "metadata": {},
   "outputs": [],
   "source": [
    "# storing the nested dictionary of tweets\n",
    "with open(filename, 'a', encoding='utf8') as f:\n",
    "    json.dump(nested_dict, f)"
   ]
  },
  {
   "cell_type": "markdown",
   "metadata": {},
   "source": [
    "#### *If you are wanting to complete another request with different search parameters, return to top of B. above, adjust your parameters, and run all of B. again. Do NOT rerun A.*"
   ]
  },
  {
   "cell_type": "markdown",
   "metadata": {},
   "source": [
    "## C. Loading your Saved Tweets from a JSON File"
   ]
  },
  {
   "cell_type": "markdown",
   "metadata": {},
   "source": [
    "### 1. Loading dictionary of tweets"
   ]
  },
  {
   "cell_type": "code",
   "execution_count": null,
   "metadata": {},
   "outputs": [],
   "source": [
    "with open(filename, 'r') as g:\n",
    "    datastore = json.load(g)"
   ]
  },
  {
   "cell_type": "markdown",
   "metadata": {},
   "source": [
    "### 2. Printing out your results"
   ]
  },
  {
   "cell_type": "code",
   "execution_count": null,
   "metadata": {},
   "outputs": [],
   "source": [
    "# printing something random to test results read properly\n",
    "print(datastore['1']['created_at'])\n",
    "print(datastore['100']['created_at'])\n",
    "print(datastore['200']['created_at'])\n",
    "print(datastore['300']['created_at'])\n",
    "print(datastore['400']['created_at'])\n",
    "print(datastore['500']['created_at'])"
   ]
  }
 ],
 "metadata": {
  "kernelspec": {
   "display_name": "Python 3",
   "language": "python",
   "name": "python3"
  },
  "language_info": {
   "codemirror_mode": {
    "name": "ipython",
    "version": 3
   },
   "file_extension": ".py",
   "mimetype": "text/x-python",
   "name": "python",
   "nbconvert_exporter": "python",
   "pygments_lexer": "ipython3",
   "version": "3.7.3"
  }
 },
 "nbformat": 4,
 "nbformat_minor": 2
}
